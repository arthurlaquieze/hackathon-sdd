{
 "cells": [
  {
   "cell_type": "code",
   "execution_count": 1,
   "metadata": {},
   "outputs": [],
   "source": [
    "import logging\n",
    "from pathlib import Path\n",
    "\n",
    "from torchmetrics import F1Score\n",
    "\n",
    "import pytorch_lightning as pl\n",
    "import torch\n",
    "import torch.nn as nn\n",
    "import torch.nn.functional as F\n",
    "import torchvision.transforms as transforms\n",
    "import torchvision.transforms.functional as TF\n",
    "import wandb\n",
    "from torch import optim\n",
    "from tqdm import tqdm\n",
    "\n",
    "from torchsummary import summary\n",
    "\n",
    "from dice_score import dice_loss\n",
    "from OSSE_DataLoader import get_data_loaders, get_xarray, normalize_osse, SegmentationTransform\n",
    "from unet import UNet"
   ]
  },
  {
   "cell_type": "code",
   "execution_count": 2,
   "metadata": {},
   "outputs": [],
   "source": [
    "batch_size = 8\n",
    "\n",
    "\n",
    "INPUT_IMAGE_HEIGHT = 357\n",
    "INPUT_IMAGE_WIDTH = 717\n",
    "\n",
    "augmentation = transforms.Compose(\n",
    "    [\n",
    "        transforms.RandomRotation(180),\n",
    "        transforms.RandomCrop((256, 256)),\n",
    "    ]\n",
    ")\n",
    "\n",
    "\n",
    "OSSE_train, eddies_train, OSSE_test = get_xarray()\n",
    "\n",
    "OSSE_train, OSSE_test_norm, *_ = normalize_osse(OSSE_train, OSSE_test)\n",
    "\n",
    "\n",
    "train_dataloader, val_dataloader = get_data_loaders(\n",
    "    batch_size, OSSE_train, eddies_train, 0, 0, augmentations=augmentation\n",
    ")\n",
    "\n",
    "train_dataloader_not_augmented, val_dataloader_not_augmented = get_data_loaders(\n",
    "    batch_size, OSSE_train, eddies_train, 0, 0\n",
    ")\n",
    "\n",
    "data_iter = iter(train_dataloader)\n",
    "\n",
    "features, labels = next(data_iter)\n"
   ]
  },
  {
   "cell_type": "code",
   "execution_count": 3,
   "metadata": {},
   "outputs": [],
   "source": [
    "import torch\n",
    "import torch.nn.functional as F\n",
    "from tqdm import tqdm\n",
    "\n",
    "from dice_score import multiclass_dice_coeff, dice_coeff\n",
    "\n",
    "\n",
    "@torch.inference_mode()\n",
    "def evaluate(net, dataloader, device, amp):\n",
    "    net.eval()\n",
    "    num_val_batches = len(dataloader)\n",
    "    dice_score = 0\n",
    "\n",
    "    f1_score = 0\n",
    "\n",
    "    # iterate over the validation set\n",
    "    # with torch.autocast(device.type if device.type != 'mps' else 'cpu', enabled=amp):\n",
    "    for (image, mask_true) in tqdm(dataloader, total=num_val_batches, desc='Validation round', unit='batch', leave=False):\n",
    "        # image, mask_true = batch['image'], batch['mask']\n",
    "\n",
    "        # move images and labels to correct device and type\n",
    "        # image = image.to(device=device, dtype=torch.float32, memory_format=torch.channels_last)\n",
    "        image = image.to(device=device, dtype=torch.float32)\n",
    "        mask_true = mask_true.to(device=device, dtype=torch.long)\n",
    "\n",
    "        # predict the mask\n",
    "        mask_pred = net(image)\n",
    "\n",
    "        if net.n_classes == 1:\n",
    "            assert mask_true.min() >= 0 and mask_true.max() <= 1, 'True mask indices should be in [0, 1]'\n",
    "            mask_pred = (F.sigmoid(mask_pred) > 0.5).float()\n",
    "            # compute the Dice score\n",
    "            dice_score += dice_coeff(mask_pred, mask_true, reduce_batch_first=False)\n",
    "        else:\n",
    "            assert mask_true.min() >= 0 and mask_true.max() < net.n_classes, 'True mask indices should be in [0, n_classes['\n",
    "            # convert to one-hot format\n",
    "            # mask_true = F.one_hot(mask_true, net.n_classes).permute(0, 3, 1, 2).float()\n",
    "            # mask_true = F.one_hot(mask_true, net.n_classes).permute(0, 3, 1, 2).float()\n",
    "\n",
    "            y_true = torch.squeeze(mask_true, 1).long()\n",
    "\n",
    "            mask_pred = F.softmax(mask_pred, dim=1).float()\n",
    "            mask_true = F.one_hot(y_true, 3).permute(0, 3, 1, 2).float()\n",
    "\n",
    "\n",
    "            # mask_true = F.one_hot(mask_true.squeeze(1), net.n_classes).float()\n",
    "            # mask_pred = F.one_hot(mask_pred.argmax(dim=1), net.n_classes).permute(0, 3, 1, 2).float()\n",
    "            # compute the Dice score, ignoring background\n",
    "            dice_score += multiclass_dice_coeff(mask_pred[:, 1:], mask_true[:, 1:], reduce_batch_first=False)\n",
    "            \n",
    "            # try:\n",
    "            pred = mask_pred.argmax(dim=1)\n",
    "\n",
    "            # f1_score += score_f1(mask_pred, mask_true)\n",
    "            f1_score += score_f1(pred, y_true)\n",
    "            # except Exception as e:\n",
    "            #     print(e)\n",
    "            #     pass\n",
    "\n",
    "    f1_score = f1_score / num_val_batches\n",
    "\n",
    "    net.train()\n",
    "    return dice_score / max(num_val_batches, 1), f1_score "
   ]
  },
  {
   "cell_type": "code",
   "execution_count": 3,
   "metadata": {},
   "outputs": [
    {
     "name": "stdout",
     "output_type": "stream",
     "text": [
      "mps\n"
     ]
    }
   ],
   "source": [
    "# device = torch.device('cuda' if torch.cuda.is_available() else 'mps' if torch.backends.mps.is_available() else 'cpu')\n",
    "\n",
    "device = torch.device(\"mps\")\n",
    "\n",
    "model = UNet(n_channels=4, n_classes=3, bilinear=False)\n",
    "model =model.to(device)\n",
    "# model.to(\"mps\")\n",
    "\n",
    "print(device)\n",
    "\n",
    "# summary(model, input_size=(4, 357//4, 717//4))"
   ]
  },
  {
   "cell_type": "code",
   "execution_count": 6,
   "metadata": {},
   "outputs": [
    {
     "name": "stdout",
     "output_type": "stream",
     "text": [
      "[61405926, 5671717, 5617553]\n",
      "tensor([0.1553, 0.9220, 0.9227])\n"
     ]
    }
   ],
   "source": [
    "# count number of data points in each class\n",
    "def count_classes(data_loader):\n",
    "    class_count = [0, 0, 0]\n",
    "    for _, labels in data_loader:\n",
    "        for i in range(3):\n",
    "            class_count[i] += (labels == i).sum().item()\n",
    "    return class_count\n",
    "\n",
    "class_count = count_classes(train_dataloader_not_augmented)\n",
    "print(class_count)\n",
    "\n",
    "# define weights for each class\n",
    "weights = 1 - (torch.tensor(class_count, dtype=torch.float) / sum(class_count))\n",
    "weights = weights.to(device)\n",
    "print(weights)\n",
    "\n"
   ]
  },
  {
   "cell_type": "code",
   "execution_count": 6,
   "metadata": {},
   "outputs": [
    {
     "name": "stdout",
     "output_type": "stream",
     "text": [
      "torch.Size([8, 4, 256, 256])\n",
      "torch.Size([8, 1, 256, 256])\n",
      "torch.Size([8, 256, 256])\n",
      "torch.Size([8, 256, 256])\n",
      "0\n",
      "torch.Size([8, 4, 256, 256])\n",
      "torch.Size([8, 1, 256, 256])\n",
      "torch.Size([8, 256, 256])\n",
      "torch.Size([8, 256, 256])\n",
      "0\n",
      "torch.Size([8, 4, 256, 256])\n",
      "torch.Size([8, 1, 256, 256])\n",
      "torch.Size([8, 256, 256])\n",
      "torch.Size([8, 256, 256])\n",
      "0\n",
      "torch.Size([8, 4, 256, 256])\n",
      "torch.Size([8, 1, 256, 256])\n",
      "torch.Size([8, 256, 256])\n",
      "torch.Size([8, 256, 256])\n",
      "0\n",
      "torch.Size([8, 4, 256, 256])\n",
      "torch.Size([8, 1, 256, 256])\n"
     ]
    },
    {
     "ename": "KeyboardInterrupt",
     "evalue": "",
     "output_type": "error",
     "traceback": [
      "\u001b[0;31m---------------------------------------------------------------------------\u001b[0m",
      "\u001b[0;31mKeyboardInterrupt\u001b[0m                         Traceback (most recent call last)",
      "Cell \u001b[0;32mIn[6], line 22\u001b[0m\n\u001b[1;32m     19\u001b[0m features \u001b[39m=\u001b[39m features\u001b[39m.\u001b[39mto(device)\n\u001b[1;32m     20\u001b[0m true_masks \u001b[39m=\u001b[39m labels\u001b[39m.\u001b[39mto(device)\n\u001b[0;32m---> 22\u001b[0m masks_pred \u001b[39m=\u001b[39m model(features)\n\u001b[1;32m     24\u001b[0m \u001b[39m# y_true = torch.squeeze(true_masks, 1).long()\u001b[39;00m\n\u001b[1;32m     25\u001b[0m \n\u001b[1;32m     26\u001b[0m \u001b[39m# loss += criterion(masks_pred, y_true)\u001b[39;00m\n\u001b[0;32m   (...)\u001b[0m\n\u001b[1;32m     30\u001b[0m \u001b[39m#     multiclass=True\u001b[39;00m\n\u001b[1;32m     31\u001b[0m \u001b[39m# )\u001b[39;00m\n\u001b[1;32m     33\u001b[0m y_true \u001b[39m=\u001b[39m torch\u001b[39m.\u001b[39msqueeze(true_masks, \u001b[39m1\u001b[39m)\u001b[39m.\u001b[39mlong()\n",
      "File \u001b[0;32m/opt/homebrew/Caskroom/miniforge/base/envs/hackathon-sdd/lib/python3.9/site-packages/torch/nn/modules/module.py:1194\u001b[0m, in \u001b[0;36mModule._call_impl\u001b[0;34m(self, *input, **kwargs)\u001b[0m\n\u001b[1;32m   1190\u001b[0m \u001b[39m# If we don't have any hooks, we want to skip the rest of the logic in\u001b[39;00m\n\u001b[1;32m   1191\u001b[0m \u001b[39m# this function, and just call forward.\u001b[39;00m\n\u001b[1;32m   1192\u001b[0m \u001b[39mif\u001b[39;00m \u001b[39mnot\u001b[39;00m (\u001b[39mself\u001b[39m\u001b[39m.\u001b[39m_backward_hooks \u001b[39mor\u001b[39;00m \u001b[39mself\u001b[39m\u001b[39m.\u001b[39m_forward_hooks \u001b[39mor\u001b[39;00m \u001b[39mself\u001b[39m\u001b[39m.\u001b[39m_forward_pre_hooks \u001b[39mor\u001b[39;00m _global_backward_hooks\n\u001b[1;32m   1193\u001b[0m         \u001b[39mor\u001b[39;00m _global_forward_hooks \u001b[39mor\u001b[39;00m _global_forward_pre_hooks):\n\u001b[0;32m-> 1194\u001b[0m     \u001b[39mreturn\u001b[39;00m forward_call(\u001b[39m*\u001b[39;49m\u001b[39minput\u001b[39;49m, \u001b[39m*\u001b[39;49m\u001b[39m*\u001b[39;49mkwargs)\n\u001b[1;32m   1195\u001b[0m \u001b[39m# Do not call functions when jit is used\u001b[39;00m\n\u001b[1;32m   1196\u001b[0m full_backward_hooks, non_full_backward_hooks \u001b[39m=\u001b[39m [], []\n",
      "File \u001b[0;32m~/Dev/Hackathons/hackathon-sdd/unet.py:110\u001b[0m, in \u001b[0;36mUNet.forward\u001b[0;34m(self, x)\u001b[0m\n\u001b[1;32m    107\u001b[0m \u001b[39m# x5 = self.down4(x4)\u001b[39;00m\n\u001b[1;32m    108\u001b[0m \u001b[39m# x = self.up1(x5, x4)\u001b[39;00m\n\u001b[1;32m    109\u001b[0m x \u001b[39m=\u001b[39m \u001b[39mself\u001b[39m\u001b[39m.\u001b[39mup2(x4, x3)\n\u001b[0;32m--> 110\u001b[0m x \u001b[39m=\u001b[39m \u001b[39mself\u001b[39;49m\u001b[39m.\u001b[39;49mup3(x, x2)\n\u001b[1;32m    111\u001b[0m x \u001b[39m=\u001b[39m \u001b[39mself\u001b[39m\u001b[39m.\u001b[39mup4(x, x1)\n\u001b[1;32m    112\u001b[0m logits \u001b[39m=\u001b[39m \u001b[39mself\u001b[39m\u001b[39m.\u001b[39moutc(x)\n",
      "File \u001b[0;32m/opt/homebrew/Caskroom/miniforge/base/envs/hackathon-sdd/lib/python3.9/site-packages/torch/nn/modules/module.py:1194\u001b[0m, in \u001b[0;36mModule._call_impl\u001b[0;34m(self, *input, **kwargs)\u001b[0m\n\u001b[1;32m   1190\u001b[0m \u001b[39m# If we don't have any hooks, we want to skip the rest of the logic in\u001b[39;00m\n\u001b[1;32m   1191\u001b[0m \u001b[39m# this function, and just call forward.\u001b[39;00m\n\u001b[1;32m   1192\u001b[0m \u001b[39mif\u001b[39;00m \u001b[39mnot\u001b[39;00m (\u001b[39mself\u001b[39m\u001b[39m.\u001b[39m_backward_hooks \u001b[39mor\u001b[39;00m \u001b[39mself\u001b[39m\u001b[39m.\u001b[39m_forward_hooks \u001b[39mor\u001b[39;00m \u001b[39mself\u001b[39m\u001b[39m.\u001b[39m_forward_pre_hooks \u001b[39mor\u001b[39;00m _global_backward_hooks\n\u001b[1;32m   1193\u001b[0m         \u001b[39mor\u001b[39;00m _global_forward_hooks \u001b[39mor\u001b[39;00m _global_forward_pre_hooks):\n\u001b[0;32m-> 1194\u001b[0m     \u001b[39mreturn\u001b[39;00m forward_call(\u001b[39m*\u001b[39;49m\u001b[39minput\u001b[39;49m, \u001b[39m*\u001b[39;49m\u001b[39m*\u001b[39;49mkwargs)\n\u001b[1;32m   1195\u001b[0m \u001b[39m# Do not call functions when jit is used\u001b[39;00m\n\u001b[1;32m   1196\u001b[0m full_backward_hooks, non_full_backward_hooks \u001b[39m=\u001b[39m [], []\n",
      "File \u001b[0;32m~/Dev/Hackathons/hackathon-sdd/unet.py:71\u001b[0m, in \u001b[0;36mUp.forward\u001b[0;34m(self, x1, x2)\u001b[0m\n\u001b[1;32m     67\u001b[0m \u001b[39m# if you have padding issues, see\u001b[39;00m\n\u001b[1;32m     68\u001b[0m \u001b[39m# https://github.com/HaiyongJiang/U-Net-Pytorch-Unstructured-Buggy/commit/0e854509c2cea854e247a9c615f175f76fbb2e3a\u001b[39;00m\n\u001b[1;32m     69\u001b[0m \u001b[39m# https://github.com/xiaopeng-liao/Pytorch-UNet/commit/8ebac70e633bac59fc22bb5195e513d5832fb3bd\u001b[39;00m\n\u001b[1;32m     70\u001b[0m x \u001b[39m=\u001b[39m torch\u001b[39m.\u001b[39mcat([x2, x1], dim\u001b[39m=\u001b[39m\u001b[39m1\u001b[39m)\n\u001b[0;32m---> 71\u001b[0m \u001b[39mreturn\u001b[39;00m \u001b[39mself\u001b[39;49m\u001b[39m.\u001b[39;49mconv(x)\n",
      "File \u001b[0;32m/opt/homebrew/Caskroom/miniforge/base/envs/hackathon-sdd/lib/python3.9/site-packages/torch/nn/modules/module.py:1194\u001b[0m, in \u001b[0;36mModule._call_impl\u001b[0;34m(self, *input, **kwargs)\u001b[0m\n\u001b[1;32m   1190\u001b[0m \u001b[39m# If we don't have any hooks, we want to skip the rest of the logic in\u001b[39;00m\n\u001b[1;32m   1191\u001b[0m \u001b[39m# this function, and just call forward.\u001b[39;00m\n\u001b[1;32m   1192\u001b[0m \u001b[39mif\u001b[39;00m \u001b[39mnot\u001b[39;00m (\u001b[39mself\u001b[39m\u001b[39m.\u001b[39m_backward_hooks \u001b[39mor\u001b[39;00m \u001b[39mself\u001b[39m\u001b[39m.\u001b[39m_forward_hooks \u001b[39mor\u001b[39;00m \u001b[39mself\u001b[39m\u001b[39m.\u001b[39m_forward_pre_hooks \u001b[39mor\u001b[39;00m _global_backward_hooks\n\u001b[1;32m   1193\u001b[0m         \u001b[39mor\u001b[39;00m _global_forward_hooks \u001b[39mor\u001b[39;00m _global_forward_pre_hooks):\n\u001b[0;32m-> 1194\u001b[0m     \u001b[39mreturn\u001b[39;00m forward_call(\u001b[39m*\u001b[39;49m\u001b[39minput\u001b[39;49m, \u001b[39m*\u001b[39;49m\u001b[39m*\u001b[39;49mkwargs)\n\u001b[1;32m   1195\u001b[0m \u001b[39m# Do not call functions when jit is used\u001b[39;00m\n\u001b[1;32m   1196\u001b[0m full_backward_hooks, non_full_backward_hooks \u001b[39m=\u001b[39m [], []\n",
      "File \u001b[0;32m~/Dev/Hackathons/hackathon-sdd/unet.py:28\u001b[0m, in \u001b[0;36mDoubleConv.forward\u001b[0;34m(self, x)\u001b[0m\n\u001b[1;32m     27\u001b[0m \u001b[39mdef\u001b[39;00m \u001b[39mforward\u001b[39m(\u001b[39mself\u001b[39m, x):\n\u001b[0;32m---> 28\u001b[0m     \u001b[39mreturn\u001b[39;00m \u001b[39mself\u001b[39;49m\u001b[39m.\u001b[39;49mdouble_conv(x)\n",
      "File \u001b[0;32m/opt/homebrew/Caskroom/miniforge/base/envs/hackathon-sdd/lib/python3.9/site-packages/torch/nn/modules/module.py:1194\u001b[0m, in \u001b[0;36mModule._call_impl\u001b[0;34m(self, *input, **kwargs)\u001b[0m\n\u001b[1;32m   1190\u001b[0m \u001b[39m# If we don't have any hooks, we want to skip the rest of the logic in\u001b[39;00m\n\u001b[1;32m   1191\u001b[0m \u001b[39m# this function, and just call forward.\u001b[39;00m\n\u001b[1;32m   1192\u001b[0m \u001b[39mif\u001b[39;00m \u001b[39mnot\u001b[39;00m (\u001b[39mself\u001b[39m\u001b[39m.\u001b[39m_backward_hooks \u001b[39mor\u001b[39;00m \u001b[39mself\u001b[39m\u001b[39m.\u001b[39m_forward_hooks \u001b[39mor\u001b[39;00m \u001b[39mself\u001b[39m\u001b[39m.\u001b[39m_forward_pre_hooks \u001b[39mor\u001b[39;00m _global_backward_hooks\n\u001b[1;32m   1193\u001b[0m         \u001b[39mor\u001b[39;00m _global_forward_hooks \u001b[39mor\u001b[39;00m _global_forward_pre_hooks):\n\u001b[0;32m-> 1194\u001b[0m     \u001b[39mreturn\u001b[39;00m forward_call(\u001b[39m*\u001b[39;49m\u001b[39minput\u001b[39;49m, \u001b[39m*\u001b[39;49m\u001b[39m*\u001b[39;49mkwargs)\n\u001b[1;32m   1195\u001b[0m \u001b[39m# Do not call functions when jit is used\u001b[39;00m\n\u001b[1;32m   1196\u001b[0m full_backward_hooks, non_full_backward_hooks \u001b[39m=\u001b[39m [], []\n",
      "File \u001b[0;32m/opt/homebrew/Caskroom/miniforge/base/envs/hackathon-sdd/lib/python3.9/site-packages/torch/nn/modules/container.py:204\u001b[0m, in \u001b[0;36mSequential.forward\u001b[0;34m(self, input)\u001b[0m\n\u001b[1;32m    202\u001b[0m \u001b[39mdef\u001b[39;00m \u001b[39mforward\u001b[39m(\u001b[39mself\u001b[39m, \u001b[39minput\u001b[39m):\n\u001b[1;32m    203\u001b[0m     \u001b[39mfor\u001b[39;00m module \u001b[39min\u001b[39;00m \u001b[39mself\u001b[39m:\n\u001b[0;32m--> 204\u001b[0m         \u001b[39minput\u001b[39m \u001b[39m=\u001b[39m module(\u001b[39minput\u001b[39;49m)\n\u001b[1;32m    205\u001b[0m     \u001b[39mreturn\u001b[39;00m \u001b[39minput\u001b[39m\n",
      "File \u001b[0;32m/opt/homebrew/Caskroom/miniforge/base/envs/hackathon-sdd/lib/python3.9/site-packages/torch/nn/modules/module.py:1194\u001b[0m, in \u001b[0;36mModule._call_impl\u001b[0;34m(self, *input, **kwargs)\u001b[0m\n\u001b[1;32m   1190\u001b[0m \u001b[39m# If we don't have any hooks, we want to skip the rest of the logic in\u001b[39;00m\n\u001b[1;32m   1191\u001b[0m \u001b[39m# this function, and just call forward.\u001b[39;00m\n\u001b[1;32m   1192\u001b[0m \u001b[39mif\u001b[39;00m \u001b[39mnot\u001b[39;00m (\u001b[39mself\u001b[39m\u001b[39m.\u001b[39m_backward_hooks \u001b[39mor\u001b[39;00m \u001b[39mself\u001b[39m\u001b[39m.\u001b[39m_forward_hooks \u001b[39mor\u001b[39;00m \u001b[39mself\u001b[39m\u001b[39m.\u001b[39m_forward_pre_hooks \u001b[39mor\u001b[39;00m _global_backward_hooks\n\u001b[1;32m   1193\u001b[0m         \u001b[39mor\u001b[39;00m _global_forward_hooks \u001b[39mor\u001b[39;00m _global_forward_pre_hooks):\n\u001b[0;32m-> 1194\u001b[0m     \u001b[39mreturn\u001b[39;00m forward_call(\u001b[39m*\u001b[39;49m\u001b[39minput\u001b[39;49m, \u001b[39m*\u001b[39;49m\u001b[39m*\u001b[39;49mkwargs)\n\u001b[1;32m   1195\u001b[0m \u001b[39m# Do not call functions when jit is used\u001b[39;00m\n\u001b[1;32m   1196\u001b[0m full_backward_hooks, non_full_backward_hooks \u001b[39m=\u001b[39m [], []\n",
      "File \u001b[0;32m/opt/homebrew/Caskroom/miniforge/base/envs/hackathon-sdd/lib/python3.9/site-packages/torch/nn/modules/conv.py:463\u001b[0m, in \u001b[0;36mConv2d.forward\u001b[0;34m(self, input)\u001b[0m\n\u001b[1;32m    462\u001b[0m \u001b[39mdef\u001b[39;00m \u001b[39mforward\u001b[39m(\u001b[39mself\u001b[39m, \u001b[39minput\u001b[39m: Tensor) \u001b[39m-\u001b[39m\u001b[39m>\u001b[39m Tensor:\n\u001b[0;32m--> 463\u001b[0m     \u001b[39mreturn\u001b[39;00m \u001b[39mself\u001b[39;49m\u001b[39m.\u001b[39;49m_conv_forward(\u001b[39minput\u001b[39;49m, \u001b[39mself\u001b[39;49m\u001b[39m.\u001b[39;49mweight, \u001b[39mself\u001b[39;49m\u001b[39m.\u001b[39;49mbias)\n",
      "File \u001b[0;32m/opt/homebrew/Caskroom/miniforge/base/envs/hackathon-sdd/lib/python3.9/site-packages/torch/nn/modules/conv.py:459\u001b[0m, in \u001b[0;36mConv2d._conv_forward\u001b[0;34m(self, input, weight, bias)\u001b[0m\n\u001b[1;32m    455\u001b[0m \u001b[39mif\u001b[39;00m \u001b[39mself\u001b[39m\u001b[39m.\u001b[39mpadding_mode \u001b[39m!=\u001b[39m \u001b[39m'\u001b[39m\u001b[39mzeros\u001b[39m\u001b[39m'\u001b[39m:\n\u001b[1;32m    456\u001b[0m     \u001b[39mreturn\u001b[39;00m F\u001b[39m.\u001b[39mconv2d(F\u001b[39m.\u001b[39mpad(\u001b[39minput\u001b[39m, \u001b[39mself\u001b[39m\u001b[39m.\u001b[39m_reversed_padding_repeated_twice, mode\u001b[39m=\u001b[39m\u001b[39mself\u001b[39m\u001b[39m.\u001b[39mpadding_mode),\n\u001b[1;32m    457\u001b[0m                     weight, bias, \u001b[39mself\u001b[39m\u001b[39m.\u001b[39mstride,\n\u001b[1;32m    458\u001b[0m                     _pair(\u001b[39m0\u001b[39m), \u001b[39mself\u001b[39m\u001b[39m.\u001b[39mdilation, \u001b[39mself\u001b[39m\u001b[39m.\u001b[39mgroups)\n\u001b[0;32m--> 459\u001b[0m \u001b[39mreturn\u001b[39;00m F\u001b[39m.\u001b[39;49mconv2d(\u001b[39minput\u001b[39;49m, weight, bias, \u001b[39mself\u001b[39;49m\u001b[39m.\u001b[39;49mstride,\n\u001b[1;32m    460\u001b[0m                 \u001b[39mself\u001b[39;49m\u001b[39m.\u001b[39;49mpadding, \u001b[39mself\u001b[39;49m\u001b[39m.\u001b[39;49mdilation, \u001b[39mself\u001b[39;49m\u001b[39m.\u001b[39;49mgroups)\n",
      "\u001b[0;31mKeyboardInterrupt\u001b[0m: "
     ]
    }
   ],
   "source": [
    "# !PYTORCH_ENABLE_MPS_FALLBACK=1\n",
    "\n",
    "model.train()\n",
    "loss = 0\n",
    "\n",
    "criterion = nn.CrossEntropyLoss(weight=weights)\n",
    "\n",
    "f1_score = 0\n",
    "\n",
    "score_f1 = F1Score(task =\"multiclass\",  num_classes=3, average=\"weighted\").to(device)\n",
    "\n",
    "import os\n",
    "os.environ['PYTORCH_ENABLE_MPS_FALLBACK'] = '1'\n",
    "\n",
    "for features, labels in train_dataloader:\n",
    "    print(features.shape)\n",
    "    print(labels.shape)\n",
    "\n",
    "    features = features.to(device)\n",
    "    true_masks = labels.to(device)\n",
    "\n",
    "    masks_pred = model(features)\n",
    "\n",
    "    # y_true = torch.squeeze(true_masks, 1).long()\n",
    "\n",
    "    # loss += criterion(masks_pred, y_true)\n",
    "    # loss += dice_loss(\n",
    "    #     F.softmax(masks_pred, dim=1).float(),\n",
    "    #     F.one_hot(y_true, model.n_classes).permute(0, 3, 1, 2).float(),\n",
    "    #     multiclass=True\n",
    "    # )\n",
    "\n",
    "    y_true = torch.squeeze(true_masks, 1).long()\n",
    "\n",
    "    masks_pred = F.softmax(masks_pred, dim=1).float()\n",
    "    mask_true = F.one_hot(y_true, 3).permute(0, 3, 1, 2).float()\n",
    "\n",
    "\n",
    "    # mask_true = F.one_hot(mask_true.squeeze(1), net.n_classes).float()\n",
    "    # mask_pred = F.one_hot(mask_pred.argmax(dim=1), net.n_classes).permute(0, 3, 1, 2).float()\n",
    "    # compute the Dice score, ignoring background\n",
    "    # dice_score += multiclass_dice_coeff(masks_pred[:, 1:], true_masks[:, 1:], reduce_batch_first=False)\n",
    "    \n",
    "    # try:\n",
    "    pred = masks_pred.argmax(dim=1)\n",
    "\n",
    "    # f1_score += score_f1(mask_pred, mask_true)\n",
    "\n",
    "    print(pred.shape)\n",
    "    print(y_true.shape)\n",
    "\n",
    "    # f1_score += score_f1(pred, y_true.permute(0, 3, 1, 2).long())\n",
    "    f1_score += score_f1(pred, y_true)\n",
    "    # except Exception as e:\n",
    "    #     print(\"Error\")\n",
    "    #     print(e)\n",
    "    #     pass\n",
    "\n",
    "\n",
    "    print(loss)\n",
    "\n",
    "print(f1_score)\n"
   ]
  },
  {
   "cell_type": "code",
   "execution_count": null,
   "metadata": {},
   "outputs": [
    {
     "data": {
      "text/plain": [
       "UNet(\n",
       "  (inc): DoubleConv(\n",
       "    (double_conv): Sequential(\n",
       "      (0): Conv2d(4, 64, kernel_size=(3, 3), stride=(1, 1), padding=(1, 1), bias=False)\n",
       "      (1): BatchNorm2d(64, eps=1e-05, momentum=0.1, affine=True, track_running_stats=True)\n",
       "      (2): ReLU(inplace=True)\n",
       "      (3): Conv2d(64, 64, kernel_size=(3, 3), stride=(1, 1), padding=(1, 1), bias=False)\n",
       "      (4): BatchNorm2d(64, eps=1e-05, momentum=0.1, affine=True, track_running_stats=True)\n",
       "      (5): ReLU(inplace=True)\n",
       "    )\n",
       "  )\n",
       "  (down1): Down(\n",
       "    (maxpool_conv): Sequential(\n",
       "      (0): MaxPool2d(kernel_size=2, stride=2, padding=0, dilation=1, ceil_mode=False)\n",
       "      (1): DoubleConv(\n",
       "        (double_conv): Sequential(\n",
       "          (0): Conv2d(64, 128, kernel_size=(3, 3), stride=(1, 1), padding=(1, 1), bias=False)\n",
       "          (1): BatchNorm2d(128, eps=1e-05, momentum=0.1, affine=True, track_running_stats=True)\n",
       "          (2): ReLU(inplace=True)\n",
       "          (3): Conv2d(128, 128, kernel_size=(3, 3), stride=(1, 1), padding=(1, 1), bias=False)\n",
       "          (4): BatchNorm2d(128, eps=1e-05, momentum=0.1, affine=True, track_running_stats=True)\n",
       "          (5): ReLU(inplace=True)\n",
       "        )\n",
       "      )\n",
       "    )\n",
       "  )\n",
       "  (down2): Down(\n",
       "    (maxpool_conv): Sequential(\n",
       "      (0): MaxPool2d(kernel_size=2, stride=2, padding=0, dilation=1, ceil_mode=False)\n",
       "      (1): DoubleConv(\n",
       "        (double_conv): Sequential(\n",
       "          (0): Conv2d(128, 256, kernel_size=(3, 3), stride=(1, 1), padding=(1, 1), bias=False)\n",
       "          (1): BatchNorm2d(256, eps=1e-05, momentum=0.1, affine=True, track_running_stats=True)\n",
       "          (2): ReLU(inplace=True)\n",
       "          (3): Conv2d(256, 256, kernel_size=(3, 3), stride=(1, 1), padding=(1, 1), bias=False)\n",
       "          (4): BatchNorm2d(256, eps=1e-05, momentum=0.1, affine=True, track_running_stats=True)\n",
       "          (5): ReLU(inplace=True)\n",
       "        )\n",
       "      )\n",
       "    )\n",
       "  )\n",
       "  (down3): Down(\n",
       "    (maxpool_conv): Sequential(\n",
       "      (0): MaxPool2d(kernel_size=2, stride=2, padding=0, dilation=1, ceil_mode=False)\n",
       "      (1): DoubleConv(\n",
       "        (double_conv): Sequential(\n",
       "          (0): Conv2d(256, 512, kernel_size=(3, 3), stride=(1, 1), padding=(1, 1), bias=False)\n",
       "          (1): BatchNorm2d(512, eps=1e-05, momentum=0.1, affine=True, track_running_stats=True)\n",
       "          (2): ReLU(inplace=True)\n",
       "          (3): Conv2d(512, 512, kernel_size=(3, 3), stride=(1, 1), padding=(1, 1), bias=False)\n",
       "          (4): BatchNorm2d(512, eps=1e-05, momentum=0.1, affine=True, track_running_stats=True)\n",
       "          (5): ReLU(inplace=True)\n",
       "        )\n",
       "      )\n",
       "    )\n",
       "  )\n",
       "  (down4): Down(\n",
       "    (maxpool_conv): Sequential(\n",
       "      (0): MaxPool2d(kernel_size=2, stride=2, padding=0, dilation=1, ceil_mode=False)\n",
       "      (1): DoubleConv(\n",
       "        (double_conv): Sequential(\n",
       "          (0): Conv2d(512, 1024, kernel_size=(3, 3), stride=(1, 1), padding=(1, 1), bias=False)\n",
       "          (1): BatchNorm2d(1024, eps=1e-05, momentum=0.1, affine=True, track_running_stats=True)\n",
       "          (2): ReLU(inplace=True)\n",
       "          (3): Conv2d(1024, 1024, kernel_size=(3, 3), stride=(1, 1), padding=(1, 1), bias=False)\n",
       "          (4): BatchNorm2d(1024, eps=1e-05, momentum=0.1, affine=True, track_running_stats=True)\n",
       "          (5): ReLU(inplace=True)\n",
       "        )\n",
       "      )\n",
       "    )\n",
       "  )\n",
       "  (up1): Up(\n",
       "    (up): ConvTranspose2d(1024, 512, kernel_size=(2, 2), stride=(2, 2))\n",
       "    (conv): DoubleConv(\n",
       "      (double_conv): Sequential(\n",
       "        (0): Conv2d(1024, 512, kernel_size=(3, 3), stride=(1, 1), padding=(1, 1), bias=False)\n",
       "        (1): BatchNorm2d(512, eps=1e-05, momentum=0.1, affine=True, track_running_stats=True)\n",
       "        (2): ReLU(inplace=True)\n",
       "        (3): Conv2d(512, 512, kernel_size=(3, 3), stride=(1, 1), padding=(1, 1), bias=False)\n",
       "        (4): BatchNorm2d(512, eps=1e-05, momentum=0.1, affine=True, track_running_stats=True)\n",
       "        (5): ReLU(inplace=True)\n",
       "      )\n",
       "    )\n",
       "  )\n",
       "  (up2): Up(\n",
       "    (up): ConvTranspose2d(512, 256, kernel_size=(2, 2), stride=(2, 2))\n",
       "    (conv): DoubleConv(\n",
       "      (double_conv): Sequential(\n",
       "        (0): Conv2d(512, 256, kernel_size=(3, 3), stride=(1, 1), padding=(1, 1), bias=False)\n",
       "        (1): BatchNorm2d(256, eps=1e-05, momentum=0.1, affine=True, track_running_stats=True)\n",
       "        (2): ReLU(inplace=True)\n",
       "        (3): Conv2d(256, 256, kernel_size=(3, 3), stride=(1, 1), padding=(1, 1), bias=False)\n",
       "        (4): BatchNorm2d(256, eps=1e-05, momentum=0.1, affine=True, track_running_stats=True)\n",
       "        (5): ReLU(inplace=True)\n",
       "      )\n",
       "    )\n",
       "  )\n",
       "  (up3): Up(\n",
       "    (up): ConvTranspose2d(256, 128, kernel_size=(2, 2), stride=(2, 2))\n",
       "    (conv): DoubleConv(\n",
       "      (double_conv): Sequential(\n",
       "        (0): Conv2d(256, 128, kernel_size=(3, 3), stride=(1, 1), padding=(1, 1), bias=False)\n",
       "        (1): BatchNorm2d(128, eps=1e-05, momentum=0.1, affine=True, track_running_stats=True)\n",
       "        (2): ReLU(inplace=True)\n",
       "        (3): Conv2d(128, 128, kernel_size=(3, 3), stride=(1, 1), padding=(1, 1), bias=False)\n",
       "        (4): BatchNorm2d(128, eps=1e-05, momentum=0.1, affine=True, track_running_stats=True)\n",
       "        (5): ReLU(inplace=True)\n",
       "      )\n",
       "    )\n",
       "  )\n",
       "  (up4): Up(\n",
       "    (up): ConvTranspose2d(128, 64, kernel_size=(2, 2), stride=(2, 2))\n",
       "    (conv): DoubleConv(\n",
       "      (double_conv): Sequential(\n",
       "        (0): Conv2d(128, 64, kernel_size=(3, 3), stride=(1, 1), padding=(1, 1), bias=False)\n",
       "        (1): BatchNorm2d(64, eps=1e-05, momentum=0.1, affine=True, track_running_stats=True)\n",
       "        (2): ReLU(inplace=True)\n",
       "        (3): Conv2d(64, 64, kernel_size=(3, 3), stride=(1, 1), padding=(1, 1), bias=False)\n",
       "        (4): BatchNorm2d(64, eps=1e-05, momentum=0.1, affine=True, track_running_stats=True)\n",
       "        (5): ReLU(inplace=True)\n",
       "      )\n",
       "    )\n",
       "  )\n",
       "  (outc): OutConv(\n",
       "    (conv): Conv2d(64, 3, kernel_size=(1, 1), stride=(1, 1))\n",
       "  )\n",
       ")"
      ]
     },
     "execution_count": 6,
     "metadata": {},
     "output_type": "execute_result"
    }
   ],
   "source": [
    "features, labels = next(data_iter)\n",
    "\n",
    "features = features.to(device, dtype=torch.float32)\n",
    "labels= labels.to(device)\n",
    "\n",
    "model.train()\n"
   ]
  },
  {
   "cell_type": "code",
   "execution_count": null,
   "metadata": {},
   "outputs": [
    {
     "data": {
      "text/plain": [
       "torch.Size([4, 4, 89, 179])"
      ]
     },
     "execution_count": 7,
     "metadata": {},
     "output_type": "execute_result"
    }
   ],
   "source": [
    "features.shape"
   ]
  },
  {
   "cell_type": "code",
   "execution_count": null,
   "metadata": {},
   "outputs": [
    {
     "data": {
      "text/plain": [
       "tensor([[[[ 1.1164e-01, -1.8179e-02, -3.9206e-03,  ..., -8.2241e-01,\n",
       "           -1.8600e-01, -3.6633e-01],\n",
       "          [ 2.0391e-01, -8.0261e-02,  1.2172e-01,  ..., -9.3781e-01,\n",
       "           -5.8848e-01, -1.5908e-01],\n",
       "          [ 1.6411e-01,  6.3528e-02,  2.6253e-02,  ..., -3.0476e-01,\n",
       "            1.6268e-01,  6.7472e-04],\n",
       "          ...,\n",
       "          [ 2.9629e-01, -3.8887e-02,  1.3487e-01,  ..., -2.1646e-01,\n",
       "            5.2838e-01,  5.0821e-01],\n",
       "          [ 1.9403e-01, -4.2702e-01, -1.8601e-01,  ...,  3.6195e-01,\n",
       "            2.9550e-01, -7.9762e-02],\n",
       "          [ 2.2907e-01, -1.2006e-01, -3.0962e-01,  ...,  2.1625e-01,\n",
       "            2.1107e-03,  2.0906e-01]],\n",
       "\n",
       "         [[-1.9044e-01,  2.4912e-01,  5.2261e-02,  ..., -2.1875e-02,\n",
       "            1.5649e-01,  4.6888e-02],\n",
       "          [ 3.9567e-02,  1.0505e-01,  1.7893e-01,  ..., -2.2845e-01,\n",
       "           -1.0090e-01, -4.7845e-02],\n",
       "          [-5.8220e-02,  3.5523e-01,  2.9870e-01,  ..., -1.0247e-02,\n",
       "            2.1321e-03,  7.1031e-02],\n",
       "          ...,\n",
       "          [-5.1183e-02,  3.0027e-01,  1.3569e-01,  ..., -5.6743e-01,\n",
       "            2.4879e-02,  2.1773e-01],\n",
       "          [ 1.2804e-01,  2.0973e-01,  3.1199e-01,  ..., -6.5237e-02,\n",
       "           -2.5414e-01, -4.5984e-01],\n",
       "          [-1.8872e-01, -4.2137e-02, -1.2793e-01,  ..., -2.0642e-01,\n",
       "           -1.2943e-01, -2.8480e-01]],\n",
       "\n",
       "         [[ 2.9068e-01,  6.4364e-02,  1.1753e-01,  ...,  6.3600e-01,\n",
       "            5.9800e-01,  6.1901e-01],\n",
       "          [ 3.5918e-01, -3.5009e-02,  2.1052e-01,  ..., -6.6036e-04,\n",
       "            6.5624e-02, -2.8236e-02],\n",
       "          [ 1.0789e-01, -9.0031e-02, -2.3124e-02,  ...,  1.4522e-01,\n",
       "           -1.1972e-01,  7.0882e-02],\n",
       "          ...,\n",
       "          [ 1.2340e-01, -8.1311e-02,  4.8829e-02,  ...,  7.2217e-03,\n",
       "            4.4968e-01,  9.0637e-01],\n",
       "          [ 2.3073e-01, -2.5113e-01,  1.4937e-01,  ...,  2.1176e-02,\n",
       "            1.0560e-01,  2.2430e-01],\n",
       "          [ 4.3639e-01,  2.3675e-03,  8.0558e-02,  ...,  3.4640e-01,\n",
       "            2.2803e-01,  2.9041e-01]]],\n",
       "\n",
       "\n",
       "        [[[-8.2486e-02, -8.7668e-02, -1.8663e-01,  ..., -2.3861e-01,\n",
       "           -2.7656e-03, -1.4889e-01],\n",
       "          [-1.2272e-02,  1.6311e-01,  4.1798e-01,  ..., -2.3876e-01,\n",
       "            4.6789e-01,  6.6890e-02],\n",
       "          [-3.1081e-02, -1.5424e-01, -9.7654e-02,  ..., -7.3373e-02,\n",
       "            6.0421e-01,  3.2713e-01],\n",
       "          ...,\n",
       "          [ 8.4557e-02, -1.6448e-01, -2.7365e-01,  ...,  6.7855e-01,\n",
       "            1.0501e+00,  2.5300e-01],\n",
       "          [ 1.6914e-01, -7.7819e-02, -1.2787e-01,  ...,  8.3708e-01,\n",
       "            1.0548e+00,  2.7052e-01],\n",
       "          [ 1.2128e-01, -2.2934e-02, -2.5428e-01,  ...,  5.0709e-01,\n",
       "            6.3109e-01,  1.6860e-01]],\n",
       "\n",
       "         [[-3.7485e-01,  5.1532e-02, -1.9612e-01,  ..., -1.3214e-02,\n",
       "            1.2210e-01,  2.0912e-01],\n",
       "          [-7.0573e-02,  1.8260e-01,  1.6929e-02,  ..., -8.8460e-02,\n",
       "            2.2629e-01,  2.2856e-01],\n",
       "          [-3.0732e-01, -1.7654e-01, -2.8153e-01,  ...,  5.8592e-02,\n",
       "           -2.4329e-01,  4.4932e-01],\n",
       "          ...,\n",
       "          [-1.9427e-01, -2.8023e-02, -1.8702e-01,  ..., -3.8979e-01,\n",
       "           -7.6035e-02,  5.7238e-02],\n",
       "          [-4.5160e-02, -1.4110e-01, -1.4086e-01,  ...,  1.9245e-01,\n",
       "            1.2862e-01,  6.9492e-02],\n",
       "          [-3.6242e-01, -2.8571e-01, -3.3887e-01,  ..., -4.3493e-01,\n",
       "           -1.2556e-01, -4.7068e-02]],\n",
       "\n",
       "         [[ 1.8369e-01,  2.5579e-01,  7.5074e-02,  ...,  3.7777e-01,\n",
       "            2.9283e-01, -1.8856e-02],\n",
       "          [ 1.3566e-01, -6.2495e-02, -1.2802e-01,  ...,  2.4850e-01,\n",
       "            4.6359e-01,  8.1998e-02],\n",
       "          [ 1.9875e-01,  7.5055e-02,  6.3325e-03,  ...,  5.0183e-01,\n",
       "            8.2181e-01,  3.1658e-01],\n",
       "          ...,\n",
       "          [ 2.1932e-02, -4.3233e-02,  4.9207e-02,  ...,  1.6759e-01,\n",
       "            2.7572e-01,  2.3310e-01],\n",
       "          [ 1.5998e-01,  6.3890e-02,  1.6545e-01,  ...,  6.5352e-01,\n",
       "            7.7164e-01,  5.1952e-01],\n",
       "          [ 3.0539e-01,  8.2924e-02,  1.4256e-01,  ...,  3.9917e-01,\n",
       "            6.0901e-01,  3.5105e-01]]],\n",
       "\n",
       "\n",
       "        [[[-8.9710e-02, -2.0985e-01, -4.4078e-01,  ...,  4.2612e-02,\n",
       "            1.1128e-01, -1.7401e-01],\n",
       "          [-3.8436e-01,  3.7275e-01, -8.8305e-02,  ...,  1.5423e-01,\n",
       "            2.2579e-01, -1.9556e-01],\n",
       "          [ 6.0751e-02,  3.3960e-01,  2.8106e-01,  ..., -2.8175e-02,\n",
       "            1.1599e-01, -9.9667e-02],\n",
       "          ...,\n",
       "          [ 2.4240e-01, -7.1574e-02,  2.2801e-01,  ..., -2.0025e-01,\n",
       "            7.7692e-02, -2.6888e-01],\n",
       "          [ 2.7920e-01,  8.3883e-02,  1.1434e+00,  ..., -2.7911e-01,\n",
       "            1.4011e-01, -3.6948e-01],\n",
       "          [ 5.2695e-01,  1.9422e-01,  2.1895e-01,  ..., -2.1685e-01,\n",
       "           -6.3643e-02, -2.8758e-01]],\n",
       "\n",
       "         [[ 7.6365e-02,  1.6150e-01, -3.8693e-01,  ..., -1.2286e-02,\n",
       "            6.0415e-02, -5.1735e-02],\n",
       "          [-2.3064e-01,  5.2569e-01, -1.7948e-01,  ...,  1.7464e-01,\n",
       "            2.1547e-01, -4.4940e-02],\n",
       "          [-5.5470e-01,  5.2505e-02,  2.0771e-01,  ...,  2.2059e-01,\n",
       "            2.0978e-01,  7.3754e-02],\n",
       "          ...,\n",
       "          [-2.4399e-01, -4.7389e-01, -2.6678e-01,  ..., -1.2383e-01,\n",
       "            2.0469e-01,  7.1534e-02],\n",
       "          [-6.0942e-01, -3.3794e-01, -6.6990e-02,  ..., -3.3929e-03,\n",
       "           -9.9120e-02,  1.9437e-01],\n",
       "          [-4.1768e-01, -3.6452e-01,  4.6475e-02,  ..., -1.5893e-01,\n",
       "           -2.0299e-01, -1.7327e-01]],\n",
       "\n",
       "         [[ 7.2361e-01,  5.0015e-01,  1.1388e+00,  ...,  7.3738e-02,\n",
       "            1.2425e-01,  2.2303e-01],\n",
       "          [ 6.1782e-01, -3.7712e-01,  7.2038e-01,  ...,  1.3189e-01,\n",
       "            1.2626e-01,  2.3241e-01],\n",
       "          [ 3.6672e-01, -3.0090e-01,  3.0639e-02,  ..., -2.0443e-01,\n",
       "            1.0096e-01,  1.8049e-01],\n",
       "          ...,\n",
       "          [-1.2894e-01,  1.4783e-01,  2.7276e-01,  ..., -7.4111e-02,\n",
       "            1.3966e-01,  2.2803e-01],\n",
       "          [ 4.9935e-01,  6.1498e-02,  1.0312e+00,  ...,  1.7710e-01,\n",
       "            2.8194e-01,  3.1113e-01],\n",
       "          [-8.6314e-02, -2.2236e-02, -1.1980e-03,  ...,  2.8997e-01,\n",
       "            1.0267e-01,  2.1967e-01]]],\n",
       "\n",
       "\n",
       "        [[[-8.2349e-02,  8.9454e-02,  1.9543e-01,  ...,  5.8294e-02,\n",
       "            1.0038e-01, -1.7746e-01],\n",
       "          [-1.0802e-01,  3.6084e-01, -2.2995e-01,  ...,  1.1854e-01,\n",
       "            1.9241e-01, -1.9846e-01],\n",
       "          [ 1.1689e-01,  2.4372e-01,  1.5836e-01,  ...,  4.7395e-02,\n",
       "            1.3389e-01, -1.2896e-01],\n",
       "          ...,\n",
       "          [ 6.4197e-03, -1.3993e-01, -8.3333e-01,  ...,  3.6481e-02,\n",
       "            8.4739e-02, -2.4998e-01],\n",
       "          [ 3.4957e-01, -6.2323e-02, -4.5423e-01,  ..., -1.7889e-01,\n",
       "            4.6574e-02, -3.6957e-01],\n",
       "          [ 3.2875e-01, -8.6295e-02, -4.1609e-02,  ..., -3.0456e-01,\n",
       "           -3.1570e-01, -2.4069e-01]],\n",
       "\n",
       "         [[-1.2465e-01,  8.4069e-02,  3.1173e-03,  ...,  4.1221e-03,\n",
       "            7.6939e-02, -6.1327e-02],\n",
       "          [-1.5396e-01,  3.2305e-01,  3.5292e-01,  ...,  2.2192e-01,\n",
       "            2.2620e-01, -5.5362e-02],\n",
       "          [-9.0270e-02,  1.5339e-02, -2.2680e-01,  ...,  1.9308e-01,\n",
       "            1.5232e-01,  7.7977e-02],\n",
       "          ...,\n",
       "          [-2.2840e-01, -2.3429e-01, -2.2610e-01,  ...,  1.7694e-01,\n",
       "            1.3633e-01,  4.4817e-02],\n",
       "          [-5.6418e-02, -6.9621e-02, -2.2797e-01,  ...,  4.1202e-01,\n",
       "            2.2775e-01,  1.5128e-01],\n",
       "          [-2.2846e-01, -2.8114e-01, -2.8061e-01,  ..., -1.2267e-01,\n",
       "           -1.4497e-01, -1.7431e-01]],\n",
       "\n",
       "         [[ 1.3480e-01, -1.8381e-01, -6.9992e-03,  ...,  8.6636e-02,\n",
       "            1.4631e-01,  2.2083e-01],\n",
       "          [ 2.7176e-01,  1.6655e-01,  2.9763e-01,  ...,  1.4910e-01,\n",
       "            1.6646e-01,  2.4400e-01],\n",
       "          [ 6.4701e-02,  5.4918e-01,  1.9439e-02,  ..., -1.3963e-01,\n",
       "            7.2494e-02,  1.8848e-01],\n",
       "          ...,\n",
       "          [ 3.2409e-01,  3.4776e-01,  2.0111e-01,  ..., -6.2481e-02,\n",
       "            8.2000e-02,  2.3195e-01],\n",
       "          [ 4.4286e-01,  2.5351e-01,  1.5788e-01,  ...,  1.8806e-01,\n",
       "            1.3896e-01,  2.8574e-01],\n",
       "          [ 3.8964e-01,  2.7029e-01,  1.4679e-02,  ...,  7.5979e-02,\n",
       "            8.0587e-02,  2.1236e-01]]]], device='mps:0',\n",
       "       grad_fn=<ConvolutionBackward0>)"
      ]
     },
     "execution_count": 8,
     "metadata": {},
     "output_type": "execute_result"
    }
   ],
   "source": [
    "model(features)"
   ]
  },
  {
   "cell_type": "code",
   "execution_count": 1,
   "metadata": {},
   "outputs": [
    {
     "ename": "NameError",
     "evalue": "name 'train_dataloader' is not defined",
     "output_type": "error",
     "traceback": [
      "\u001b[0;31m---------------------------------------------------------------------------\u001b[0m",
      "\u001b[0;31mNameError\u001b[0m                                 Traceback (most recent call last)",
      "Cell \u001b[0;32mIn[1], line 1\u001b[0m\n\u001b[0;32m----> 1\u001b[0m \u001b[39mlen\u001b[39m(train_dataloader)\n",
      "\u001b[0;31mNameError\u001b[0m: name 'train_dataloader' is not defined"
     ]
    }
   ],
   "source": [
    "len(train_dataloader)"
   ]
  },
  {
   "cell_type": "code",
   "execution_count": 7,
   "metadata": {},
   "outputs": [
    {
     "data": {
      "text/html": [
       "Finishing last run (ID:0hotv1hf) before initializing another..."
      ],
      "text/plain": [
       "<IPython.core.display.HTML object>"
      ]
     },
     "metadata": {},
     "output_type": "display_data"
    },
    {
     "data": {
      "text/html": [
       "Waiting for W&B process to finish... <strong style=\"color:green\">(success).</strong>"
      ],
      "text/plain": [
       "<IPython.core.display.HTML object>"
      ]
     },
     "metadata": {},
     "output_type": "display_data"
    },
    {
     "data": {
      "application/vnd.jupyter.widget-view+json": {
       "model_id": "aa8569b69a3a4f9ba85a7693f9fd2068",
       "version_major": 2,
       "version_minor": 0
      },
      "text/plain": [
       "VBox(children=(Label(value='0.000 MB of 0.172 MB uploaded (0.000 MB deduped)\\r'), FloatProgress(value=0.0, max…"
      ]
     },
     "metadata": {},
     "output_type": "display_data"
    },
    {
     "data": {
      "text/html": [
       "<style>\n",
       "    table.wandb td:nth-child(1) { padding: 0 10px; text-align: left ; width: auto;} td:nth-child(2) {text-align: left ; width: 100%}\n",
       "    .wandb-row { display: flex; flex-direction: row; flex-wrap: wrap; justify-content: flex-start; width: 100% }\n",
       "    .wandb-col { display: flex; flex-direction: column; flex-basis: 100%; flex: 1; padding: 10px; }\n",
       "    </style>\n",
       "<div class=\"wandb-row\"><div class=\"wandb-col\"><h3>Run history:</h3><br/><table class=\"wandb\"><tr><td>epoch</td><td>▁▁▁▁▁▁▁▁▁▁▁▁▁▁▁▁▁▁▁▁▁▁▁▁▁▁▁</td></tr><tr><td>step</td><td>▁▁▂▂▂▂▃▃▃▃▄▄▄▅▅▅▅▆▆▆▆▇▇▇▇██</td></tr><tr><td>train loss</td><td>█▇▆▅▄▄▄▄▄▃▃▃▃▄▃▃▂▄▂▃▃▃▂▄▁▂▁</td></tr></table><br/></div><div class=\"wandb-col\"><h3>Run summary:</h3><br/><table class=\"wandb\"><tr><td>epoch</td><td>1</td></tr><tr><td>f1_score</td><td>0.5914</td></tr><tr><td>learning rate</td><td>0.001</td></tr><tr><td>step</td><td>27</td></tr><tr><td>train loss</td><td>0.3448</td></tr><tr><td>validation Dice</td><td>0.2768</td></tr></table><br/></div></div>"
      ],
      "text/plain": [
       "<IPython.core.display.HTML object>"
      ]
     },
     "metadata": {},
     "output_type": "display_data"
    },
    {
     "data": {
      "text/html": [
       " View run <strong style=\"color:#cdcd00\">grateful-wood-42</strong> at: <a href='https://wandb.ai/arthurlaquieze/U-Net/runs/0hotv1hf' target=\"_blank\">https://wandb.ai/arthurlaquieze/U-Net/runs/0hotv1hf</a><br/>Synced 3 W&B file(s), 0 media file(s), 0 artifact file(s) and 0 other file(s)"
      ],
      "text/plain": [
       "<IPython.core.display.HTML object>"
      ]
     },
     "metadata": {},
     "output_type": "display_data"
    },
    {
     "data": {
      "text/html": [
       "Find logs at: <code>./wandb/run-20230301_124642-0hotv1hf/logs</code>"
      ],
      "text/plain": [
       "<IPython.core.display.HTML object>"
      ]
     },
     "metadata": {},
     "output_type": "display_data"
    },
    {
     "data": {
      "text/html": [
       "Successfully finished last run (ID:0hotv1hf). Initializing new run:<br/>"
      ],
      "text/plain": [
       "<IPython.core.display.HTML object>"
      ]
     },
     "metadata": {},
     "output_type": "display_data"
    },
    {
     "data": {
      "application/vnd.jupyter.widget-view+json": {
       "model_id": "4f9667758f15499aa0a24710298b09a7",
       "version_major": 2,
       "version_minor": 0
      },
      "text/plain": [
       "VBox(children=(Label(value='Waiting for wandb.init()...\\r'), FloatProgress(value=0.016742563183332965, max=1.0…"
      ]
     },
     "metadata": {},
     "output_type": "display_data"
    },
    {
     "data": {
      "text/html": [
       "Tracking run with wandb version 0.13.10"
      ],
      "text/plain": [
       "<IPython.core.display.HTML object>"
      ]
     },
     "metadata": {},
     "output_type": "display_data"
    },
    {
     "data": {
      "text/html": [
       "Run data is saved locally in <code>/Users/arthur/Dev/Hackathons/hackathon-sdd/wandb/run-20230301_124836-4amh0s0g</code>"
      ],
      "text/plain": [
       "<IPython.core.display.HTML object>"
      ]
     },
     "metadata": {},
     "output_type": "display_data"
    },
    {
     "data": {
      "text/html": [
       "Syncing run <strong><a href='https://wandb.ai/arthurlaquieze/U-Net/runs/4amh0s0g' target=\"_blank\">laced-dream-45</a></strong> to <a href='https://wandb.ai/arthurlaquieze/U-Net' target=\"_blank\">Weights & Biases</a> (<a href='https://wandb.me/run' target=\"_blank\">docs</a>)<br/>"
      ],
      "text/plain": [
       "<IPython.core.display.HTML object>"
      ]
     },
     "metadata": {},
     "output_type": "display_data"
    },
    {
     "data": {
      "text/html": [
       " View project at <a href='https://wandb.ai/arthurlaquieze/U-Net' target=\"_blank\">https://wandb.ai/arthurlaquieze/U-Net</a>"
      ],
      "text/plain": [
       "<IPython.core.display.HTML object>"
      ]
     },
     "metadata": {},
     "output_type": "display_data"
    },
    {
     "data": {
      "text/html": [
       " View run at <a href='https://wandb.ai/arthurlaquieze/U-Net/runs/4amh0s0g' target=\"_blank\">https://wandb.ai/arthurlaquieze/U-Net/runs/4amh0s0g</a>"
      ],
      "text/plain": [
       "<IPython.core.display.HTML object>"
      ]
     },
     "metadata": {},
     "output_type": "display_data"
    },
    {
     "name": "stderr",
     "output_type": "stream",
     "text": [
      "Epoch 1/2000:   0%|          | 0/4 [01:39<?, ?img/s]\n",
      "Validation round:   0%|          | 0/8 [00:00<?, ?batch/s]/opt/homebrew/Caskroom/miniforge/base/envs/hackathon-sdd/lib/python3.9/site-packages/torch/functional.py:791: UserWarning: The operator 'aten::_unique2' is not currently supported on the MPS backend and will fall back to run on the CPU. This may have performance implications. (Triggered internally at /Users/runner/work/_temp/anaconda/conda-bld/pytorch_1670525849783/work/aten/src/ATen/mps/MPSFallback.mm:11.)\n",
      "  output, inverse_indices, counts = torch._unique2(\n",
      "                                                                  \r"
     ]
    },
    {
     "name": "stdout",
     "output_type": "stream",
     "text": [
      "val_score tensor(0.1500, device='mps:0')\n",
      "f1_score tensor(0.3070, device='mps:0')\n"
     ]
    },
    {
     "name": "stderr",
     "output_type": "stream",
     "text": [
      "Epoch 2/2000:   0%|          | 0/4 [02:05<?, ?img/s]\n",
      "                                                                  \r"
     ]
    },
    {
     "name": "stdout",
     "output_type": "stream",
     "text": [
      "val_score tensor(0.1773, device='mps:0')\n",
      "f1_score tensor(0.4284, device='mps:0')\n"
     ]
    },
    {
     "name": "stderr",
     "output_type": "stream",
     "text": [
      "Epoch 3/2000:   0%|          | 0/4 [02:04<?, ?img/s]\n",
      "                                                                  \r"
     ]
    },
    {
     "name": "stdout",
     "output_type": "stream",
     "text": [
      "val_score tensor(0.1924, device='mps:0')\n",
      "f1_score tensor(0.4561, device='mps:0')\n"
     ]
    },
    {
     "name": "stderr",
     "output_type": "stream",
     "text": [
      "Epoch 4/2000:   0%|          | 0/4 [01:04<?, ?img/s]\n"
     ]
    },
    {
     "ename": "KeyboardInterrupt",
     "evalue": "",
     "output_type": "error",
     "traceback": [
      "\u001b[0;31m---------------------------------------------------------------------------\u001b[0m",
      "\u001b[0;31mKeyboardInterrupt\u001b[0m                         Traceback (most recent call last)",
      "Cell \u001b[0;32mIn[7], line 127\u001b[0m\n\u001b[1;32m    123\u001b[0m torch\u001b[39m.\u001b[39mnn\u001b[39m.\u001b[39mutils\u001b[39m.\u001b[39mclip_grad_norm_(model\u001b[39m.\u001b[39mparameters(), gradient_clipping)\n\u001b[1;32m    124\u001b[0m \u001b[39m# grad_scaler.step(optimizer)\u001b[39;00m\n\u001b[1;32m    125\u001b[0m \u001b[39m# loss.step(optimizer)\u001b[39;00m\n\u001b[1;32m    126\u001b[0m \u001b[39m# grad_scaler.update()\u001b[39;00m\n\u001b[0;32m--> 127\u001b[0m loss\u001b[39m.\u001b[39;49mbackward()\n\u001b[1;32m    128\u001b[0m optimizer\u001b[39m.\u001b[39mstep()\n\u001b[1;32m    130\u001b[0m \u001b[39m# print(\"there\")\u001b[39;00m\n\u001b[1;32m    131\u001b[0m \n\u001b[1;32m    132\u001b[0m \u001b[39m# pbar.update(images.shape[0])\u001b[39;00m\n",
      "File \u001b[0;32m/opt/homebrew/Caskroom/miniforge/base/envs/hackathon-sdd/lib/python3.9/site-packages/torch/_tensor.py:488\u001b[0m, in \u001b[0;36mTensor.backward\u001b[0;34m(self, gradient, retain_graph, create_graph, inputs)\u001b[0m\n\u001b[1;32m    478\u001b[0m \u001b[39mif\u001b[39;00m has_torch_function_unary(\u001b[39mself\u001b[39m):\n\u001b[1;32m    479\u001b[0m     \u001b[39mreturn\u001b[39;00m handle_torch_function(\n\u001b[1;32m    480\u001b[0m         Tensor\u001b[39m.\u001b[39mbackward,\n\u001b[1;32m    481\u001b[0m         (\u001b[39mself\u001b[39m,),\n\u001b[0;32m   (...)\u001b[0m\n\u001b[1;32m    486\u001b[0m         inputs\u001b[39m=\u001b[39minputs,\n\u001b[1;32m    487\u001b[0m     )\n\u001b[0;32m--> 488\u001b[0m torch\u001b[39m.\u001b[39;49mautograd\u001b[39m.\u001b[39;49mbackward(\n\u001b[1;32m    489\u001b[0m     \u001b[39mself\u001b[39;49m, gradient, retain_graph, create_graph, inputs\u001b[39m=\u001b[39;49minputs\n\u001b[1;32m    490\u001b[0m )\n",
      "File \u001b[0;32m/opt/homebrew/Caskroom/miniforge/base/envs/hackathon-sdd/lib/python3.9/site-packages/torch/autograd/__init__.py:197\u001b[0m, in \u001b[0;36mbackward\u001b[0;34m(tensors, grad_tensors, retain_graph, create_graph, grad_variables, inputs)\u001b[0m\n\u001b[1;32m    192\u001b[0m     retain_graph \u001b[39m=\u001b[39m create_graph\n\u001b[1;32m    194\u001b[0m \u001b[39m# The reason we repeat same the comment below is that\u001b[39;00m\n\u001b[1;32m    195\u001b[0m \u001b[39m# some Python versions print out the first line of a multi-line function\u001b[39;00m\n\u001b[1;32m    196\u001b[0m \u001b[39m# calls in the traceback and some print out the last line\u001b[39;00m\n\u001b[0;32m--> 197\u001b[0m Variable\u001b[39m.\u001b[39;49m_execution_engine\u001b[39m.\u001b[39;49mrun_backward(  \u001b[39m# Calls into the C++ engine to run the backward pass\u001b[39;49;00m\n\u001b[1;32m    198\u001b[0m     tensors, grad_tensors_, retain_graph, create_graph, inputs,\n\u001b[1;32m    199\u001b[0m     allow_unreachable\u001b[39m=\u001b[39;49m\u001b[39mTrue\u001b[39;49;00m, accumulate_grad\u001b[39m=\u001b[39;49m\u001b[39mTrue\u001b[39;49;00m)\n",
      "\u001b[0;31mKeyboardInterrupt\u001b[0m: "
     ]
    }
   ],
   "source": [
    "dir_img = Path('./data/imgs/')\n",
    "dir_mask = Path('./data/masks/')\n",
    "dir_checkpoint = Path('./checkpoints/')\n",
    "\n",
    "epochs = 2000\n",
    "learning_rate = 1e-3\n",
    "val_percent = 0.1\n",
    "save_checkpoint = True\n",
    "img_scale = 1\n",
    "amp = False\n",
    "weight_decay = 1e-8\n",
    "momentum = 0.999\n",
    "gradient_clipping = 1\n",
    "\n",
    "train_loader, val_loader = train_dataloader, val_dataloader\n",
    "\n",
    "score_f1 = F1Score(task =\"multiclass\",  num_classes=3, average=\"macro\").to(device)\n",
    "\n",
    "# n_train = int(len(OSSE_train) * 0.8)\n",
    "n_train = len(OSSE_train)\n",
    "n_val = int(len(OSSE_test) * 0.2)\n",
    "\n",
    "# (Initialize logging)\n",
    "# experiment = wandb.init(project='U-Net', resume='auto', anonymous='must')\n",
    "experiment = wandb.init(project='U-Net', resume='never')\n",
    "experiment.config.update(\n",
    "    dict(epochs=epochs, batch_size=batch_size, learning_rate=learning_rate,\n",
    "            val_percent=val_percent, save_checkpoint=save_checkpoint, img_scale=img_scale, amp=amp)\n",
    ")\n",
    "\n",
    "logging.info(f'''Starting training:\n",
    "    Epochs:          {epochs}\n",
    "    Batch size:      {batch_size}\n",
    "    Learning rate:   {learning_rate}\n",
    "    Training size:   {n_train}\n",
    "    Validation size: {n_val}\n",
    "    Checkpoints:     {save_checkpoint}\n",
    "    Device:          {device.type}\n",
    "    Images scaling:  {img_scale}\n",
    "    Mixed Precision: {amp}\n",
    "''')\n",
    "\n",
    "# 4. Set up the optimizer, the loss, the learning rate scheduler and the loss scaling for AMP\n",
    "# optimizer = optim.RMSprop(model.parameters(),\n",
    "#                             # lr=learning_rate, weight_decay=weight_decay, momentum=momentum, foreach=True)\n",
    "#                             lr=learning_rate, weight_decay=weight_decay, momentum=momentum)\n",
    "optimizer = optim.Adam(model.parameters(), lr=learning_rate, weight_decay=weight_decay)\n",
    "scheduler = optim.lr_scheduler.ReduceLROnPlateau(optimizer, 'max', patience=6, factor=0.3)  # goal: maximize Dice score\n",
    "# grad_scaler = torch.cuda.amp.GradScaler(enabled=amp)\n",
    "\n",
    "# criterion = nn.CrossEntropyLoss(weight=torch.tensor([0.4, 0.8, 0.8]))\n",
    "criterion = nn.CrossEntropyLoss()\n",
    "global_step = 0\n",
    "\n",
    "# print(\"là\")\n",
    "\n",
    "# 5. Begin training\n",
    "for epoch in range(1, epochs + 1):\n",
    "    model.train()\n",
    "    epoch_loss = 0\n",
    "    # print(\"ici\")\n",
    "    with tqdm(total=n_train, desc=f'Epoch {epoch}/{epochs}', unit='img') as pbar:\n",
    "\n",
    "        for (images, true_masks) in train_loader:\n",
    "            # images, true_masks = batch['image'], batch['mask']\n",
    "\n",
    "            # print(images.shape)\n",
    "            # print(true_masks.shape)\n",
    "\n",
    "            # assert images.shape[1] == model.n_channels, \\\n",
    "            #     f'Network has been defined with {model.n_channels} input channels, ' \\\n",
    "            #     f'but loaded images have {images.shape[1]} channels. Please check that ' \\\n",
    "            #     'the images are loaded correctly.'\n",
    "\n",
    "            # images = images.to(device=device, dtype=torch.float32, memory_format=torch.channels_last)\n",
    "            # images = images.to(device=device, dtype=torch.float32)\n",
    "            # true_masks = true_masks.to(device=device, dtype=torch.long)\n",
    "            images = images.to(device)\n",
    "\n",
    "            true_masks = true_masks.to(device)\n",
    "            masks_pred = model(images)\n",
    "\n",
    "            # print(\"jsuis là fréro\")\n",
    "\n",
    "            # with torch.autocast(device.type if device.type != 'mps' else 'cpu', enabled=amp):\n",
    "            # print(\"juste ici\")\n",
    "            \n",
    "            # if model.n_classes == 1:\n",
    "            #     loss = criterion(masks_pred.squeeze(1), true_masks.float())\n",
    "            #     loss += dice_loss(F.sigmoid(masks_pred.squeeze(1)), true_masks.float(), multiclass=False)\n",
    "            # else:\n",
    "            #     # loss = criterion(masks_pred, true_masks)\n",
    "            #     # print(masks_pred.shape)\n",
    "            #     # print(true_masks.shape)\n",
    "\n",
    "            #     y_true = torch.squeeze(true_masks, 1)\n",
    "            #     # print(y_true.shape)\n",
    "            #     print(\"là bas\")\n",
    "            #     # loss = criterion(masks_pred, F.one_hot(true_masks, model.n_classes).permute(0, 3, 1, 2).float())\n",
    "            #     loss = criterion(masks_pred, y_true.float())\n",
    "            #     loss += dice_loss(\n",
    "            #         F.softmax(masks_pred, dim=1).float(),\n",
    "            #         # F.one_hot(true_masks, model.n_classes).permute(0, 3, 1, 2).float(),\n",
    "            #         F.one_hot(y_true, model.n_classes).float(),\n",
    "            #         multiclass=True\n",
    "            #     )\n",
    "\n",
    "\n",
    "            y_true = torch.squeeze(true_masks, 1).long()\n",
    "\n",
    "            loss = criterion(masks_pred, y_true)\n",
    "            # loss += dice_loss(\n",
    "            #     F.softmax(masks_pred, dim=1).float(),\n",
    "            #     F.one_hot(y_true, model.n_classes).permute(0, 3, 1, 2).float(),\n",
    "            #     multiclass=True\n",
    "            # )\n",
    "\n",
    "\n",
    "            # print(\"here\")\n",
    "\n",
    "            optimizer.zero_grad(set_to_none=True)\n",
    "            # grad_scaler.scale(loss).backward()\n",
    "            torch.nn.utils.clip_grad_norm_(model.parameters(), gradient_clipping)\n",
    "            # grad_scaler.step(optimizer)\n",
    "            # loss.step(optimizer)\n",
    "            # grad_scaler.update()\n",
    "            loss.backward()\n",
    "            optimizer.step()\n",
    "            \n",
    "            # print(\"there\")\n",
    "\n",
    "            # pbar.update(images.shape[0])\n",
    "            global_step += 1\n",
    "            epoch_loss += loss.item()\n",
    "            # experiment.log({\n",
    "            #     'train loss': loss.item(),\n",
    "            #     'step': global_step,\n",
    "            #     'epoch': epoch\n",
    "            # })\n",
    "            experiment.log({\n",
    "                'train loss': loss.item(),\n",
    "                'step': global_step,\n",
    "                'epoch': epoch\n",
    "            })\n",
    "\n",
    "            # pbar.set_postfix(**{'loss (batch)': loss.item()})\n",
    "\n",
    "            # Evaluation round\n",
    "            # division_step = (n_train // (5 * batch_size))\n",
    "            # print(\"n_train\", n_train)\n",
    "            \n",
    "            # print(\"global_step\", global_step)\n",
    "\n",
    "    # division_step = 8\n",
    "\n",
    "    # if division_step > 0:\n",
    "    #     if global_step % division_step == 0:\n",
    "    histograms = {}\n",
    "    for tag, value in model.named_parameters():\n",
    "        tag = tag.replace('/', '.')\n",
    "        if not torch.isinf(value).any():\n",
    "            histograms['Weights/' + tag] = wandb.Histogram(value.data.cpu())\n",
    "        if not torch.isinf(value.grad).any():\n",
    "            histograms['Gradients/' + tag] = wandb.Histogram(value.grad.data.cpu())\n",
    "\n",
    "    val_score, f1_score = evaluate(model, val_loader, device, amp)\n",
    "    print(\"val_score\", val_score)\n",
    "    print(\"f1_score\", f1_score)\n",
    "\n",
    "    scheduler.step(val_score)\n",
    "\n",
    "    logging.info('Validation Dice score: {}'.format(val_score))\n",
    "    try:\n",
    "        experiment.log({\n",
    "        # logging.info({\n",
    "            'learning rate': optimizer.param_groups[0]['lr'],\n",
    "            'validation Dice': val_score,\n",
    "            'images': wandb.Image(images[0].cpu()),\n",
    "            'masks': {\n",
    "                'true': wandb.Image(true_masks[0].float().cpu()),\n",
    "                'pred': wandb.Image(masks_pred.argmax(dim=1)[0].float().cpu()),\n",
    "            },\n",
    "            'step': global_step,\n",
    "            'epoch': epoch,\n",
    "            'f1_score': f1_score,\n",
    "            **histograms\n",
    "        })\n",
    "    except:\n",
    "        pass\n",
    "\n",
    "    if save_checkpoint:\n",
    "        Path(dir_checkpoint).mkdir(parents=True, exist_ok=True)\n",
    "        state_dict = model.state_dict()\n",
    "        # state_dict['mask_values'] = dataset.mask_values\n",
    "        torch.save(state_dict, str(dir_checkpoint / 'checkpoint_epoch{}.pth'.format(epoch)))\n",
    "        logging.info(f'Checkpoint {epoch} saved!')\n",
    "\n"
   ]
  },
  {
   "cell_type": "markdown",
   "metadata": {},
   "source": []
  },
  {
   "cell_type": "code",
   "execution_count": 54,
   "metadata": {},
   "outputs": [
    {
     "data": {
      "text/plain": [
       "<All keys matched successfully>"
      ]
     },
     "execution_count": 54,
     "metadata": {},
     "output_type": "execute_result"
    }
   ],
   "source": [
    "# model = UNet(n_channels=4, n_classes=3, bilinear=False)\n",
    "\n",
    "# load model from checkpoint\n",
    "state_dict = torch.load('dieu/checkpoint_epoch101.pth', map_location=device)\n",
    "model.load_state_dict(state_dict)\n",
    "\n",
    "\n"
   ]
  },
  {
   "cell_type": "code",
   "execution_count": 5,
   "metadata": {},
   "outputs": [],
   "source": [
    "import matplotlib.pyplot as plt\n",
    "import numpy as np"
   ]
  },
  {
   "cell_type": "code",
   "execution_count": 55,
   "metadata": {},
   "outputs": [
    {
     "name": "stdout",
     "output_type": "stream",
     "text": [
      "0\n",
      "4\n",
      "8\n",
      "12\n",
      "16\n"
     ]
    }
   ],
   "source": [
    "selected_var = [\"vomecrtyT\", \"vozocrtxT\", \"sossheig\", \"votemper\"]\n",
    "\n",
    "X_test = torch.tensor(OSSE_test_norm.get(selected_var).to_array().to_numpy())\n",
    "X_test = X_test.permute(1, 0, 2, 3)\n",
    "\n",
    "copy_X_test = X_test.clone()\n",
    "\n",
    "X_test = X_test.nan_to_num(0)\n",
    "\n",
    "features =X_test[:, :, :, :]\n",
    "\n",
    "model.to(\"cpu\")\n",
    "features.to(\"cpu\")\n",
    "model.eval()\n",
    "\n",
    "logits = torch.empty(features.shape)\n",
    "\n",
    "with torch.no_grad():\n",
    "    # iterate over the test dataset and add results to logits\n",
    "    for i in range(0, features.shape[0], 4):\n",
    "        print(i)\n",
    "        output = model(features[i:i+4, :,:,:])# softmax\n",
    "        logits[i:i+4, :, :, :] = torch.argmax(output,dim=1, keepdim=True)\n",
    "\n",
    "\n",
    "    # output = model(features[0:4, :,:,:])# softmax\n",
    "    # logits = torch.argmax(output,dim=1, keepdim=True)\n",
    "\n",
    "plt.imshow(features[0, 0, :, :].cpu().numpy())\n",
    "plt.show()\n",
    "# # show the label of 1st sample\n",
    "# plt.imshow(labels[1, 0, :, :].cpu().numpy())\n",
    "# plt.show()\n",
    "# show the predicted label of 1st sample\n",
    "plt.imshow(logits[0, 0, :, :].cpu().numpy())\n",
    "plt.show()"
   ]
  },
  {
   "cell_type": "code",
   "execution_count": 25,
   "metadata": {},
   "outputs": [
    {
     "data": {
      "text/plain": [
       "torch.Size([72, 4, 357, 717])"
      ]
     },
     "execution_count": 25,
     "metadata": {},
     "output_type": "execute_result"
    }
   ],
   "source": [
    "features.shape"
   ]
  },
  {
   "cell_type": "code",
   "execution_count": 24,
   "metadata": {},
   "outputs": [
    {
     "data": {
      "text/plain": [
       "torch.Size([72, 4, 357, 717])"
      ]
     },
     "execution_count": 24,
     "metadata": {},
     "output_type": "execute_result"
    }
   ],
   "source": [
    "# logits"
   ]
  },
  {
   "cell_type": "code",
   "execution_count": 46,
   "metadata": {},
   "outputs": [],
   "source": [
    "logits2 = logits[:, 0, :, :]"
   ]
  },
  {
   "cell_type": "code",
   "execution_count": 47,
   "metadata": {},
   "outputs": [
    {
     "data": {
      "text/plain": [
       "array([0., 1., 2.], dtype=float32)"
      ]
     },
     "execution_count": 47,
     "metadata": {},
     "output_type": "execute_result"
    }
   ],
   "source": [
    "np.unique(logits2)"
   ]
  },
  {
   "cell_type": "code",
   "execution_count": 20,
   "metadata": {},
   "outputs": [
    {
     "ename": "SyntaxError",
     "evalue": "invalid syntax (801809199.py, line 4)",
     "output_type": "error",
     "traceback": [
      "\u001b[0;36m  Cell \u001b[0;32mIn[20], line 4\u001b[0;36m\u001b[0m\n\u001b[0;31m    logits = torch.argmax(,dim=1, keepdim=True)\u001b[0m\n\u001b[0m                          ^\u001b[0m\n\u001b[0;31mSyntaxError\u001b[0m\u001b[0;31m:\u001b[0m invalid syntax\n"
     ]
    }
   ],
   "source": [
    "# output.shape\n",
    "\n",
    "\n",
    "# logits = torch.argmax(,dim=1, keepdim=True)"
   ]
  },
  {
   "cell_type": "code",
   "execution_count": 15,
   "metadata": {},
   "outputs": [],
   "source": []
  },
  {
   "cell_type": "code",
   "execution_count": 16,
   "metadata": {},
   "outputs": [
    {
     "data": {
      "text/plain": [
       "array([2])"
      ]
     },
     "execution_count": 16,
     "metadata": {},
     "output_type": "execute_result"
    }
   ],
   "source": [
    "np.unique(logits.numpy())"
   ]
  },
  {
   "cell_type": "code",
   "execution_count": 32,
   "metadata": {},
   "outputs": [
    {
     "data": {
      "image/png": "[encoded data removed]",
      "text/plain": [
       "<Figure size 640x480 with 1 Axes>"
      ]
     },
     "metadata": {},
     "output_type": "display_data"
    },
    {
     "data": {
      "image/png": "[encoded data removed]",
      "text/plain": [
       "<Figure size 640x480 with 1 Axes>"
      ]
     },
     "metadata": {},
     "output_type": "display_data"
    }
   ],
   "source": [
    "plt.imshow(features[1, 0, :, :].cpu().numpy())\n",
    "plt.show()\n",
    "# # show the label of 1st sample\n",
    "# plt.imshow(labels[1, 0, :, :].cpu().numpy())\n",
    "# plt.show()\n",
    "# show the predicted label of 1st sample\n",
    "plt.imshow(logits[1, 0, :, :].cpu().numpy())\n",
    "plt.show()"
   ]
  },
  {
   "cell_type": "code",
   "execution_count": 40,
   "metadata": {},
   "outputs": [
    {
     "data": {
      "text/plain": [
       "tensor([[[[0., 0., 0.,  ..., 0., 0., 0.],\n",
       "          [0., 0., 0.,  ..., 0., 0., 0.],\n",
       "          [0., 0., 0.,  ..., 0., 0., 0.],\n",
       "          ...,\n",
       "          [0., 0., 0.,  ..., 0., 0., 0.],\n",
       "          [0., 0., 0.,  ..., 0., 0., 0.],\n",
       "          [0., 0., 0.,  ..., 0., 0., 0.]],\n",
       "\n",
       "         [[0., 0., 0.,  ..., 0., 0., 0.],\n",
       "          [0., 0., 0.,  ..., 0., 0., 0.],\n",
       "          [0., 0., 0.,  ..., 0., 0., 0.],\n",
       "          ...,\n",
       "          [0., 0., 0.,  ..., 0., 0., 0.],\n",
       "          [0., 0., 0.,  ..., 0., 0., 0.],\n",
       "          [0., 0., 0.,  ..., 0., 0., 0.]],\n",
       "\n",
       "         [[0., 0., 0.,  ..., 0., 0., 0.],\n",
       "          [0., 0., 0.,  ..., 0., 0., 0.],\n",
       "          [0., 0., 0.,  ..., 0., 0., 0.],\n",
       "          ...,\n",
       "          [0., 0., 0.,  ..., 0., 0., 0.],\n",
       "          [0., 0., 0.,  ..., 0., 0., 0.],\n",
       "          [0., 0., 0.,  ..., 0., 0., 0.]],\n",
       "\n",
       "         [[0., 0., 0.,  ..., 0., 0., 0.],\n",
       "          [0., 0., 0.,  ..., 0., 0., 0.],\n",
       "          [0., 0., 0.,  ..., 0., 0., 0.],\n",
       "          ...,\n",
       "          [0., 0., 0.,  ..., 0., 0., 0.],\n",
       "          [0., 0., 0.,  ..., 0., 0., 0.],\n",
       "          [0., 0., 0.,  ..., 0., 0., 0.]]],\n",
       "\n",
       "\n",
       "        [[[0., 0., 0.,  ..., 0., 0., 0.],\n",
       "          [0., 0., 0.,  ..., 0., 0., 0.],\n",
       "          [0., 0., 0.,  ..., 0., 0., 0.],\n",
       "          ...,\n",
       "          [0., 0., 0.,  ..., 0., 0., 0.],\n",
       "          [0., 0., 0.,  ..., 0., 0., 0.],\n",
       "          [0., 0., 0.,  ..., 0., 0., 0.]],\n",
       "\n",
       "         [[0., 0., 0.,  ..., 0., 0., 0.],\n",
       "          [0., 0., 0.,  ..., 0., 0., 0.],\n",
       "          [0., 0., 0.,  ..., 0., 0., 0.],\n",
       "          ...,\n",
       "          [0., 0., 0.,  ..., 0., 0., 0.],\n",
       "          [0., 0., 0.,  ..., 0., 0., 0.],\n",
       "          [0., 0., 0.,  ..., 0., 0., 0.]],\n",
       "\n",
       "         [[0., 0., 0.,  ..., 0., 0., 0.],\n",
       "          [0., 0., 0.,  ..., 0., 0., 0.],\n",
       "          [0., 0., 0.,  ..., 0., 0., 0.],\n",
       "          ...,\n",
       "          [0., 0., 0.,  ..., 0., 0., 0.],\n",
       "          [0., 0., 0.,  ..., 0., 0., 0.],\n",
       "          [0., 0., 0.,  ..., 0., 0., 0.]],\n",
       "\n",
       "         [[0., 0., 0.,  ..., 0., 0., 0.],\n",
       "          [0., 0., 0.,  ..., 0., 0., 0.],\n",
       "          [0., 0., 0.,  ..., 0., 0., 0.],\n",
       "          ...,\n",
       "          [0., 0., 0.,  ..., 0., 0., 0.],\n",
       "          [0., 0., 0.,  ..., 0., 0., 0.],\n",
       "          [0., 0., 0.,  ..., 0., 0., 0.]]],\n",
       "\n",
       "\n",
       "        [[[0., 0., 0.,  ..., 0., 0., 0.],\n",
       "          [0., 0., 0.,  ..., 0., 0., 0.],\n",
       "          [0., 0., 0.,  ..., 0., 0., 0.],\n",
       "          ...,\n",
       "          [0., 0., 0.,  ..., 0., 0., 0.],\n",
       "          [0., 0., 0.,  ..., 0., 0., 0.],\n",
       "          [0., 0., 0.,  ..., 0., 0., 0.]],\n",
       "\n",
       "         [[0., 0., 0.,  ..., 0., 0., 0.],\n",
       "          [0., 0., 0.,  ..., 0., 0., 0.],\n",
       "          [0., 0., 0.,  ..., 0., 0., 0.],\n",
       "          ...,\n",
       "          [0., 0., 0.,  ..., 0., 0., 0.],\n",
       "          [0., 0., 0.,  ..., 0., 0., 0.],\n",
       "          [0., 0., 0.,  ..., 0., 0., 0.]],\n",
       "\n",
       "         [[0., 0., 0.,  ..., 0., 0., 0.],\n",
       "          [0., 0., 0.,  ..., 0., 0., 0.],\n",
       "          [0., 0., 0.,  ..., 0., 0., 0.],\n",
       "          ...,\n",
       "          [0., 0., 0.,  ..., 0., 0., 0.],\n",
       "          [0., 0., 0.,  ..., 0., 0., 0.],\n",
       "          [0., 0., 0.,  ..., 0., 0., 0.]],\n",
       "\n",
       "         [[0., 0., 0.,  ..., 0., 0., 0.],\n",
       "          [0., 0., 0.,  ..., 0., 0., 0.],\n",
       "          [0., 0., 0.,  ..., 0., 0., 0.],\n",
       "          ...,\n",
       "          [0., 0., 0.,  ..., 0., 0., 0.],\n",
       "          [0., 0., 0.,  ..., 0., 0., 0.],\n",
       "          [0., 0., 0.,  ..., 0., 0., 0.]]],\n",
       "\n",
       "\n",
       "        ...,\n",
       "\n",
       "\n",
       "        [[[0., 0., 0.,  ..., 2., 0., 0.],\n",
       "          [0., 0., 0.,  ..., 2., 2., 0.],\n",
       "          [0., 0., 0.,  ..., 2., 2., 2.],\n",
       "          ...,\n",
       "          [0., 0., 0.,  ..., 0., 0., 0.],\n",
       "          [0., 0., 0.,  ..., 0., 0., 0.],\n",
       "          [0., 0., 0.,  ..., 0., 0., 0.]],\n",
       "\n",
       "         [[0., 0., 0.,  ..., 2., 0., 0.],\n",
       "          [0., 0., 0.,  ..., 2., 2., 0.],\n",
       "          [0., 0., 0.,  ..., 2., 2., 2.],\n",
       "          ...,\n",
       "          [0., 0., 0.,  ..., 0., 0., 0.],\n",
       "          [0., 0., 0.,  ..., 0., 0., 0.],\n",
       "          [0., 0., 0.,  ..., 0., 0., 0.]],\n",
       "\n",
       "         [[0., 0., 0.,  ..., 2., 0., 0.],\n",
       "          [0., 0., 0.,  ..., 2., 2., 0.],\n",
       "          [0., 0., 0.,  ..., 2., 2., 2.],\n",
       "          ...,\n",
       "          [0., 0., 0.,  ..., 0., 0., 0.],\n",
       "          [0., 0., 0.,  ..., 0., 0., 0.],\n",
       "          [0., 0., 0.,  ..., 0., 0., 0.]],\n",
       "\n",
       "         [[0., 0., 0.,  ..., 2., 0., 0.],\n",
       "          [0., 0., 0.,  ..., 2., 2., 0.],\n",
       "          [0., 0., 0.,  ..., 2., 2., 2.],\n",
       "          ...,\n",
       "          [0., 0., 0.,  ..., 0., 0., 0.],\n",
       "          [0., 0., 0.,  ..., 0., 0., 0.],\n",
       "          [0., 0., 0.,  ..., 0., 0., 0.]]],\n",
       "\n",
       "\n",
       "        [[[0., 0., 0.,  ..., 0., 0., 0.],\n",
       "          [0., 0., 0.,  ..., 2., 0., 0.],\n",
       "          [0., 0., 0.,  ..., 0., 2., 0.],\n",
       "          ...,\n",
       "          [0., 0., 0.,  ..., 0., 0., 0.],\n",
       "          [0., 0., 0.,  ..., 0., 0., 0.],\n",
       "          [0., 0., 0.,  ..., 0., 0., 0.]],\n",
       "\n",
       "         [[0., 0., 0.,  ..., 0., 0., 0.],\n",
       "          [0., 0., 0.,  ..., 2., 0., 0.],\n",
       "          [0., 0., 0.,  ..., 0., 2., 0.],\n",
       "          ...,\n",
       "          [0., 0., 0.,  ..., 0., 0., 0.],\n",
       "          [0., 0., 0.,  ..., 0., 0., 0.],\n",
       "          [0., 0., 0.,  ..., 0., 0., 0.]],\n",
       "\n",
       "         [[0., 0., 0.,  ..., 0., 0., 0.],\n",
       "          [0., 0., 0.,  ..., 2., 0., 0.],\n",
       "          [0., 0., 0.,  ..., 0., 2., 0.],\n",
       "          ...,\n",
       "          [0., 0., 0.,  ..., 0., 0., 0.],\n",
       "          [0., 0., 0.,  ..., 0., 0., 0.],\n",
       "          [0., 0., 0.,  ..., 0., 0., 0.]],\n",
       "\n",
       "         [[0., 0., 0.,  ..., 0., 0., 0.],\n",
       "          [0., 0., 0.,  ..., 2., 0., 0.],\n",
       "          [0., 0., 0.,  ..., 0., 2., 0.],\n",
       "          ...,\n",
       "          [0., 0., 0.,  ..., 0., 0., 0.],\n",
       "          [0., 0., 0.,  ..., 0., 0., 0.],\n",
       "          [0., 0., 0.,  ..., 0., 0., 0.]]],\n",
       "\n",
       "\n",
       "        [[[0., 0., 0.,  ..., 0., 0., 0.],\n",
       "          [0., 0., 0.,  ..., 0., 0., 0.],\n",
       "          [0., 0., 0.,  ..., 0., 0., 0.],\n",
       "          ...,\n",
       "          [0., 0., 0.,  ..., 0., 0., 0.],\n",
       "          [0., 0., 0.,  ..., 0., 0., 0.],\n",
       "          [0., 0., 0.,  ..., 0., 0., 0.]],\n",
       "\n",
       "         [[0., 0., 0.,  ..., 0., 0., 0.],\n",
       "          [0., 0., 0.,  ..., 0., 0., 0.],\n",
       "          [0., 0., 0.,  ..., 0., 0., 0.],\n",
       "          ...,\n",
       "          [0., 0., 0.,  ..., 0., 0., 0.],\n",
       "          [0., 0., 0.,  ..., 0., 0., 0.],\n",
       "          [0., 0., 0.,  ..., 0., 0., 0.]],\n",
       "\n",
       "         [[0., 0., 0.,  ..., 0., 0., 0.],\n",
       "          [0., 0., 0.,  ..., 0., 0., 0.],\n",
       "          [0., 0., 0.,  ..., 0., 0., 0.],\n",
       "          ...,\n",
       "          [0., 0., 0.,  ..., 0., 0., 0.],\n",
       "          [0., 0., 0.,  ..., 0., 0., 0.],\n",
       "          [0., 0., 0.,  ..., 0., 0., 0.]],\n",
       "\n",
       "         [[0., 0., 0.,  ..., 0., 0., 0.],\n",
       "          [0., 0., 0.,  ..., 0., 0., 0.],\n",
       "          [0., 0., 0.,  ..., 0., 0., 0.],\n",
       "          ...,\n",
       "          [0., 0., 0.,  ..., 0., 0., 0.],\n",
       "          [0., 0., 0.,  ..., 0., 0., 0.],\n",
       "          [0., 0., 0.,  ..., 0., 0., 0.]]]])"
      ]
     },
     "execution_count": 40,
     "metadata": {},
     "output_type": "execute_result"
    }
   ],
   "source": [
    "logits.shape\n",
    "logits"
   ]
  },
  {
   "cell_type": "code",
   "execution_count": 36,
   "metadata": {},
   "outputs": [],
   "source": [
    "# np.unique(logits.numpy())\n",
    "# logits.shape\n",
    "\n",
    "logits2 = torch.argmax(logits, dim=1)\n"
   ]
  },
  {
   "cell_type": "code",
   "execution_count": 37,
   "metadata": {},
   "outputs": [
    {
     "data": {
      "text/plain": [
       "array([0])"
      ]
     },
     "execution_count": 37,
     "metadata": {},
     "output_type": "execute_result"
    }
   ],
   "source": [
    "np.unique(logits2.numpy())"
   ]
  },
  {
   "cell_type": "code",
   "execution_count": 49,
   "metadata": {},
   "outputs": [
    {
     "data": {
      "text/plain": [
       "<matplotlib.image.AxesImage at 0x15a40a460>"
      ]
     },
     "execution_count": 49,
     "metadata": {},
     "output_type": "execute_result"
    },
    {
     "data": {
      "image/png": "[encoded data removed]",
      "text/plain": [
       "<Figure size 640x480 with 1 Axes>"
      ]
     },
     "metadata": {},
     "output_type": "display_data"
    }
   ],
   "source": [
    "# logits2 = torch.argmax(logits, dim=1, keepdim=True)\n",
    "\n",
    "predictions = copy_X_test[:, 0, :, :].flatten().isnan() * 999\n",
    "\n",
    "predictions[logits2.flatten() == 1] = 1\n",
    "predictions[logits2.flatten() == 2] = 2\n",
    "\n",
    "np.unique(predictions.cpu().numpy())\n",
    "\n",
    "plt.imshow(predictions.reshape(72, 357, 717)[0, :, :])"
   ]
  },
  {
   "cell_type": "code",
   "execution_count": 50,
   "metadata": {},
   "outputs": [],
   "source": [
    "idx_csv = []\n",
    "for Id_tp in range(72):\n",
    "    for Id_lat in range(357):\n",
    "        for Id_lon in range(717):\n",
    "            idx_csv.append(f'{Id_tp}_{Id_lat}_{Id_lon}')\n",
    "\n",
    "# when copy_X_test is nan change values of ypred to 999\n",
    "# ypred = model(X_test)\n",
    "# logits = torch.argmax(output,dim=1, keepdim=True)\n",
    "# ypred = logits.flatten().cpu().numpy()\n",
    "\n",
    "submit_predictions = predictions.cpu().numpy().copy()"
   ]
  },
  {
   "cell_type": "code",
   "execution_count": 51,
   "metadata": {},
   "outputs": [],
   "source": [
    "import pandas as pd"
   ]
  },
  {
   "cell_type": "code",
   "execution_count": 52,
   "metadata": {},
   "outputs": [
    {
     "data": {
      "text/html": [
       "<div>\n",
       "<style scoped>\n",
       "    .dataframe tbody tr th:only-of-type {\n",
       "        vertical-align: middle;\n",
       "    }\n",
       "\n",
       "    .dataframe tbody tr th {\n",
       "        vertical-align: top;\n",
       "    }\n",
       "\n",
       "    .dataframe thead th {\n",
       "        text-align: right;\n",
       "    }\n",
       "</style>\n",
       "<table border=\"1\" class=\"dataframe\">\n",
       "  <thead>\n",
       "    <tr style=\"text-align: right;\">\n",
       "      <th></th>\n",
       "      <th>Id</th>\n",
       "      <th>Category</th>\n",
       "    </tr>\n",
       "  </thead>\n",
       "  <tbody>\n",
       "    <tr>\n",
       "      <th>0</th>\n",
       "      <td>0_0_0</td>\n",
       "      <td>999</td>\n",
       "    </tr>\n",
       "    <tr>\n",
       "      <th>1</th>\n",
       "      <td>0_0_1</td>\n",
       "      <td>999</td>\n",
       "    </tr>\n",
       "    <tr>\n",
       "      <th>2</th>\n",
       "      <td>0_0_2</td>\n",
       "      <td>999</td>\n",
       "    </tr>\n",
       "    <tr>\n",
       "      <th>3</th>\n",
       "      <td>0_0_3</td>\n",
       "      <td>999</td>\n",
       "    </tr>\n",
       "    <tr>\n",
       "      <th>4</th>\n",
       "      <td>0_0_4</td>\n",
       "      <td>999</td>\n",
       "    </tr>\n",
       "  </tbody>\n",
       "</table>\n",
       "</div>"
      ],
      "text/plain": [
       "      Id  Category\n",
       "0  0_0_0       999\n",
       "1  0_0_1       999\n",
       "2  0_0_2       999\n",
       "3  0_0_3       999\n",
       "4  0_0_4       999"
      ]
     },
     "execution_count": 52,
     "metadata": {},
     "output_type": "execute_result"
    }
   ],
   "source": [
    "df = pd.DataFrame({'Id': idx_csv, 'Category': submit_predictions})\n",
    "df.to_csv('submission2.csv', index=False)\n",
    "df.head()"
   ]
  },
  {
   "cell_type": "code",
   "execution_count": 53,
   "metadata": {},
   "outputs": [],
   "source": [
    "from sklearn.metrics import confusion_matrix\n",
    "import seaborn as sns\n"
   ]
  },
  {
   "cell_type": "code",
   "execution_count": null,
   "metadata": {},
   "outputs": [],
   "source": [
    "y_true = labels.cpu().numpy().flatten()\n",
    "y_pred = logits.cpu().numpy().flatten()\n",
    "cm = confusion_matrix(y_true, y_pred)\n",
    "cm = cm.astype('float') / cm.sum(axis=1)[:, np.newaxis]\n",
    "sns.heatmap(cm, annot=True, fmt='.2f', cmap='Blues')\n",
    "plt.show()"
   ]
  }
 ],
 "metadata": {
  "kernelspec": {
   "display_name": "hackathon-sdd",
   "language": "python",
   "name": "python3"
  },
  "language_info": {
   "codemirror_mode": {
    "name": "ipython",
    "version": 3
   },
   "file_extension": ".py",
   "mimetype": "text/x-python",
   "name": "python",
   "nbconvert_exporter": "python",
   "pygments_lexer": "ipython3",
   "version": "3.9.16"
  },
  "orig_nbformat": 4,
  "vscode": {
   "interpreter": {
    "hash": "8f9ceecff076d48798942f8f184cd258593a6625277272087ec6b73d76705584"
   }
  }
 },
 "nbformat": 4,
 "nbformat_minor": 2
}
